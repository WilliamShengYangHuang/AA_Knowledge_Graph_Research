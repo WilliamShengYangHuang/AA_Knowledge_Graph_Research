{
  "nbformat": 4,
  "nbformat_minor": 0,
  "metadata": {
    "colab": {
      "provenance": [],
      "authorship_tag": "ABX9TyM6//i1GdzIDE3cEHV5+n4h",
      "include_colab_link": true
    },
    "kernelspec": {
      "name": "python3",
      "display_name": "Python 3"
    },
    "language_info": {
      "name": "python"
    }
  },
  "cells": [
    {
      "cell_type": "markdown",
      "metadata": {
        "id": "view-in-github",
        "colab_type": "text"
      },
      "source": [
        "<a href=\"https://colab.research.google.com/github/WilliamShengYangHuang/AA_Knowledge_Graph_Research/blob/main/AA_KG_test_01.ipynb\" target=\"_parent\"><img src=\"https://colab.research.google.com/assets/colab-badge.svg\" alt=\"Open In Colab\"/></a>"
      ]
    },
    {
      "cell_type": "markdown",
      "source": [
        "## Project Setup"
      ],
      "metadata": {
        "id": "cIONT5l3lXDR"
      }
    },
    {
      "cell_type": "code",
      "source": [
        "import os\n",
        "import sys\n",
        "import string\n",
        "import random\n",
        "import numpy as np\n",
        "import pandas as pd\n",
        "import networkx as nx\n",
        "\n",
        "from matplotlib import pyplot as plt\n",
        "%matplotlib inline\n",
        "from IPython import display\n",
        "\n",
        "from google.colab import drive"
      ],
      "metadata": {
        "id": "o5WEdX6me-V0"
      },
      "execution_count": 24,
      "outputs": []
    },
    {
      "cell_type": "code",
      "source": [
        "# Place the dataset in your Google Drive \n",
        "drive.mount('/content/drive')\n",
        "\n",
        "# set dataset path\n",
        "folder_name = 'aa_kg_research/test/AA Knowledge Graphs Project.csv' #@param{type:\"string\"}\n",
        "path = '/content/drive/My Drive/' + folder_name "
      ],
      "metadata": {
        "colab": {
          "base_uri": "https://localhost:8080/"
        },
        "id": "s_mgdrVHe8Rh",
        "outputId": "24817858-c156-4708-bfc2-ea7180bad5fb"
      },
      "execution_count": 25,
      "outputs": [
        {
          "output_type": "stream",
          "name": "stdout",
          "text": [
            "Drive already mounted at /content/drive; to attempt to forcibly remount, call drive.mount(\"/content/drive\", force_remount=True).\n"
          ]
        }
      ]
    },
    {
      "cell_type": "markdown",
      "source": [
        "## Process portfolio data"
      ],
      "metadata": {
        "id": "fvmCB3n4lBvg"
      }
    },
    {
      "cell_type": "code",
      "source": [
        "# read csv file\n",
        "df = pd.read_csv(path)\n",
        "df.head(-1)"
      ],
      "metadata": {
        "colab": {
          "base_uri": "https://localhost:8080/",
          "height": 689
        },
        "id": "EzMNyqkZfgBg",
        "outputId": "2499e133-e92d-45f1-9584-f6d7c3eea033"
      },
      "execution_count": 26,
      "outputs": [
        {
          "output_type": "execute_result",
          "data": {
            "text/plain": [
              "    Unnamed: 0                                      Project title  \\\n",
              "0            0  The Impact of Green Roofs on Urban Heat Island...   \n",
              "1            1  Sustainable Urbanism: An Analysis of LEED-Cert...   \n",
              "2            2  The Role of Public Space in Promoting Social C...   \n",
              "3            3  The Future of Transportation: A Case Study of ...   \n",
              "4            4  The Relationship Between Urban Form and Walkin...   \n",
              "5            5      The Effects of Urban Density on Mental Health   \n",
              "6            6         The Impact of Urban Sprawl on Biodiversity   \n",
              "7            7     The Role of Public Art in Urban Revitalization   \n",
              "8            8  The Role of Transportation Infrastructure in S...   \n",
              "9            9  Evaluating the Effectiveness of Public Transit...   \n",
              "10          10   The Impact of Street Design on Pedestrian Safety   \n",
              "11          11  The Use of Green Infrastructure to Manage Stor...   \n",
              "12          12  The Relationship Between Housing Affordability...   \n",
              "13          13  The Role of Public Parks in Promoting Physical...   \n",
              "14          14  The Impact of Light Pollution on Urban Ecosystems   \n",
              "15          15  The Role of Public Transportation in Reducing ...   \n",
              "16          16   The Impact of Urbanization on Freshwater Quality   \n",
              "17          17  The Role of Street Trees in Reducing Urban Hea...   \n",
              "18          18  The Impact of Traffic Congestion on Air Qualit...   \n",
              "\n",
              "                                            Key words  \\\n",
              "0   green roofs,urban heat island effect,urban env...   \n",
              "1   sustainable urbanism,LEED certification,neighb...   \n",
              "2           public space,social cohesion,urban design   \n",
              "3   electric vehicles,autonomous vehicles,urban tr...   \n",
              "4   urban form,walking behavior,pedestrian environ...   \n",
              "5      urban density,mental health,residential design   \n",
              "6        urban sprawl,biodiversity,ecological impacts   \n",
              "7   public art,urban revitalization,neighborhood i...   \n",
              "8   transportation infrastructure,urban form,land ...   \n",
              "9   public transit,transit-oriented development,su...   \n",
              "10  street design,pedestrian safety,traffic engine...   \n",
              "11  green infrastructure,stormwater management,urb...   \n",
              "12  housing affordability,public transportation,ur...   \n",
              "13        public parks,physical activity,urban health   \n",
              "14  light pollution,urban ecosystems,ecological im...   \n",
              "15  public transportation,carbon emissions,urban s...   \n",
              "16    urbanization,freshwater quality,water resources   \n",
              "17  street trees,urban heat island effect,urban mi...   \n",
              "18     traffic congestion,air quality,urban pollution   \n",
              "\n",
              "                                      Project authors  \n",
              "0   John Smith, Emily Johnson, Rachel Williams, Mi...  \n",
              "1   Jessica Davis, Robert Anderson, William Thomps...  \n",
              "2   David Taylor, James Martin, Mary Wilson, Chris...  \n",
              "3   Matthew Anderson, Elizabeth Thompson, Richard ...  \n",
              "4   Susan Johnson, Mark Williams, Joseph Thompson,...  \n",
              "5   William Anderson, David Taylor, Jennifer Brown...  \n",
              "6   Robert Smith, Rachel Martin, John Davis, Micha...  \n",
              "7   Elizabeth Jones, William Thompson, Mark Anders...  \n",
              "8   Christopher Taylor, James Davis, Sarah Wilson,...  \n",
              "9   Matthew Taylor, Susan Brown, John Thompson, Ch...  \n",
              "10  Jessica Anderson, Richard Martin, William Jone...  \n",
              "11  Michael Taylor, John Smith, Karen Wilson, Jame...  \n",
              "12  David Williams, Rachel Thompson, Robert Davis,...  \n",
              "13  Mary Taylor, Christopher Johnson, William Jone...  \n",
              "14  James Martin, James Davis, Sarah Anderson, Dav...  \n",
              "15  Matthew Taylor, Susan Johnson, John Thompson, ...  \n",
              "16  Jessica Davis, Richard Martin, William Smith, ...  \n",
              "17  Michael Anderson, John Taylor, Jennifer Brown,...  \n",
              "18  David Williams, Rachel Martin, Christopher Dav...  "
            ],
            "text/html": [
              "\n",
              "  <div id=\"df-37aa2546-68c9-4bcc-92b7-457bfb7fcf9f\">\n",
              "    <div class=\"colab-df-container\">\n",
              "      <div>\n",
              "<style scoped>\n",
              "    .dataframe tbody tr th:only-of-type {\n",
              "        vertical-align: middle;\n",
              "    }\n",
              "\n",
              "    .dataframe tbody tr th {\n",
              "        vertical-align: top;\n",
              "    }\n",
              "\n",
              "    .dataframe thead th {\n",
              "        text-align: right;\n",
              "    }\n",
              "</style>\n",
              "<table border=\"1\" class=\"dataframe\">\n",
              "  <thead>\n",
              "    <tr style=\"text-align: right;\">\n",
              "      <th></th>\n",
              "      <th>Unnamed: 0</th>\n",
              "      <th>Project title</th>\n",
              "      <th>Key words</th>\n",
              "      <th>Project authors</th>\n",
              "    </tr>\n",
              "  </thead>\n",
              "  <tbody>\n",
              "    <tr>\n",
              "      <th>0</th>\n",
              "      <td>0</td>\n",
              "      <td>The Impact of Green Roofs on Urban Heat Island...</td>\n",
              "      <td>green roofs,urban heat island effect,urban env...</td>\n",
              "      <td>John Smith, Emily Johnson, Rachel Williams, Mi...</td>\n",
              "    </tr>\n",
              "    <tr>\n",
              "      <th>1</th>\n",
              "      <td>1</td>\n",
              "      <td>Sustainable Urbanism: An Analysis of LEED-Cert...</td>\n",
              "      <td>sustainable urbanism,LEED certification,neighb...</td>\n",
              "      <td>Jessica Davis, Robert Anderson, William Thomps...</td>\n",
              "    </tr>\n",
              "    <tr>\n",
              "      <th>2</th>\n",
              "      <td>2</td>\n",
              "      <td>The Role of Public Space in Promoting Social C...</td>\n",
              "      <td>public space,social cohesion,urban design</td>\n",
              "      <td>David Taylor, James Martin, Mary Wilson, Chris...</td>\n",
              "    </tr>\n",
              "    <tr>\n",
              "      <th>3</th>\n",
              "      <td>3</td>\n",
              "      <td>The Future of Transportation: A Case Study of ...</td>\n",
              "      <td>electric vehicles,autonomous vehicles,urban tr...</td>\n",
              "      <td>Matthew Anderson, Elizabeth Thompson, Richard ...</td>\n",
              "    </tr>\n",
              "    <tr>\n",
              "      <th>4</th>\n",
              "      <td>4</td>\n",
              "      <td>The Relationship Between Urban Form and Walkin...</td>\n",
              "      <td>urban form,walking behavior,pedestrian environ...</td>\n",
              "      <td>Susan Johnson, Mark Williams, Joseph Thompson,...</td>\n",
              "    </tr>\n",
              "    <tr>\n",
              "      <th>5</th>\n",
              "      <td>5</td>\n",
              "      <td>The Effects of Urban Density on Mental Health</td>\n",
              "      <td>urban density,mental health,residential design</td>\n",
              "      <td>William Anderson, David Taylor, Jennifer Brown...</td>\n",
              "    </tr>\n",
              "    <tr>\n",
              "      <th>6</th>\n",
              "      <td>6</td>\n",
              "      <td>The Impact of Urban Sprawl on Biodiversity</td>\n",
              "      <td>urban sprawl,biodiversity,ecological impacts</td>\n",
              "      <td>Robert Smith, Rachel Martin, John Davis, Micha...</td>\n",
              "    </tr>\n",
              "    <tr>\n",
              "      <th>7</th>\n",
              "      <td>7</td>\n",
              "      <td>The Role of Public Art in Urban Revitalization</td>\n",
              "      <td>public art,urban revitalization,neighborhood i...</td>\n",
              "      <td>Elizabeth Jones, William Thompson, Mark Anders...</td>\n",
              "    </tr>\n",
              "    <tr>\n",
              "      <th>8</th>\n",
              "      <td>8</td>\n",
              "      <td>The Role of Transportation Infrastructure in S...</td>\n",
              "      <td>transportation infrastructure,urban form,land ...</td>\n",
              "      <td>Christopher Taylor, James Davis, Sarah Wilson,...</td>\n",
              "    </tr>\n",
              "    <tr>\n",
              "      <th>9</th>\n",
              "      <td>9</td>\n",
              "      <td>Evaluating the Effectiveness of Public Transit...</td>\n",
              "      <td>public transit,transit-oriented development,su...</td>\n",
              "      <td>Matthew Taylor, Susan Brown, John Thompson, Ch...</td>\n",
              "    </tr>\n",
              "    <tr>\n",
              "      <th>10</th>\n",
              "      <td>10</td>\n",
              "      <td>The Impact of Street Design on Pedestrian Safety</td>\n",
              "      <td>street design,pedestrian safety,traffic engine...</td>\n",
              "      <td>Jessica Anderson, Richard Martin, William Jone...</td>\n",
              "    </tr>\n",
              "    <tr>\n",
              "      <th>11</th>\n",
              "      <td>11</td>\n",
              "      <td>The Use of Green Infrastructure to Manage Stor...</td>\n",
              "      <td>green infrastructure,stormwater management,urb...</td>\n",
              "      <td>Michael Taylor, John Smith, Karen Wilson, Jame...</td>\n",
              "    </tr>\n",
              "    <tr>\n",
              "      <th>12</th>\n",
              "      <td>12</td>\n",
              "      <td>The Relationship Between Housing Affordability...</td>\n",
              "      <td>housing affordability,public transportation,ur...</td>\n",
              "      <td>David Williams, Rachel Thompson, Robert Davis,...</td>\n",
              "    </tr>\n",
              "    <tr>\n",
              "      <th>13</th>\n",
              "      <td>13</td>\n",
              "      <td>The Role of Public Parks in Promoting Physical...</td>\n",
              "      <td>public parks,physical activity,urban health</td>\n",
              "      <td>Mary Taylor, Christopher Johnson, William Jone...</td>\n",
              "    </tr>\n",
              "    <tr>\n",
              "      <th>14</th>\n",
              "      <td>14</td>\n",
              "      <td>The Impact of Light Pollution on Urban Ecosystems</td>\n",
              "      <td>light pollution,urban ecosystems,ecological im...</td>\n",
              "      <td>James Martin, James Davis, Sarah Anderson, Dav...</td>\n",
              "    </tr>\n",
              "    <tr>\n",
              "      <th>15</th>\n",
              "      <td>15</td>\n",
              "      <td>The Role of Public Transportation in Reducing ...</td>\n",
              "      <td>public transportation,carbon emissions,urban s...</td>\n",
              "      <td>Matthew Taylor, Susan Johnson, John Thompson, ...</td>\n",
              "    </tr>\n",
              "    <tr>\n",
              "      <th>16</th>\n",
              "      <td>16</td>\n",
              "      <td>The Impact of Urbanization on Freshwater Quality</td>\n",
              "      <td>urbanization,freshwater quality,water resources</td>\n",
              "      <td>Jessica Davis, Richard Martin, William Smith, ...</td>\n",
              "    </tr>\n",
              "    <tr>\n",
              "      <th>17</th>\n",
              "      <td>17</td>\n",
              "      <td>The Role of Street Trees in Reducing Urban Hea...</td>\n",
              "      <td>street trees,urban heat island effect,urban mi...</td>\n",
              "      <td>Michael Anderson, John Taylor, Jennifer Brown,...</td>\n",
              "    </tr>\n",
              "    <tr>\n",
              "      <th>18</th>\n",
              "      <td>18</td>\n",
              "      <td>The Impact of Traffic Congestion on Air Qualit...</td>\n",
              "      <td>traffic congestion,air quality,urban pollution</td>\n",
              "      <td>David Williams, Rachel Martin, Christopher Dav...</td>\n",
              "    </tr>\n",
              "  </tbody>\n",
              "</table>\n",
              "</div>\n",
              "      <button class=\"colab-df-convert\" onclick=\"convertToInteractive('df-37aa2546-68c9-4bcc-92b7-457bfb7fcf9f')\"\n",
              "              title=\"Convert this dataframe to an interactive table.\"\n",
              "              style=\"display:none;\">\n",
              "        \n",
              "  <svg xmlns=\"http://www.w3.org/2000/svg\" height=\"24px\"viewBox=\"0 0 24 24\"\n",
              "       width=\"24px\">\n",
              "    <path d=\"M0 0h24v24H0V0z\" fill=\"none\"/>\n",
              "    <path d=\"M18.56 5.44l.94 2.06.94-2.06 2.06-.94-2.06-.94-.94-2.06-.94 2.06-2.06.94zm-11 1L8.5 8.5l.94-2.06 2.06-.94-2.06-.94L8.5 2.5l-.94 2.06-2.06.94zm10 10l.94 2.06.94-2.06 2.06-.94-2.06-.94-.94-2.06-.94 2.06-2.06.94z\"/><path d=\"M17.41 7.96l-1.37-1.37c-.4-.4-.92-.59-1.43-.59-.52 0-1.04.2-1.43.59L10.3 9.45l-7.72 7.72c-.78.78-.78 2.05 0 2.83L4 21.41c.39.39.9.59 1.41.59.51 0 1.02-.2 1.41-.59l7.78-7.78 2.81-2.81c.8-.78.8-2.07 0-2.86zM5.41 20L4 18.59l7.72-7.72 1.47 1.35L5.41 20z\"/>\n",
              "  </svg>\n",
              "      </button>\n",
              "      \n",
              "  <style>\n",
              "    .colab-df-container {\n",
              "      display:flex;\n",
              "      flex-wrap:wrap;\n",
              "      gap: 12px;\n",
              "    }\n",
              "\n",
              "    .colab-df-convert {\n",
              "      background-color: #E8F0FE;\n",
              "      border: none;\n",
              "      border-radius: 50%;\n",
              "      cursor: pointer;\n",
              "      display: none;\n",
              "      fill: #1967D2;\n",
              "      height: 32px;\n",
              "      padding: 0 0 0 0;\n",
              "      width: 32px;\n",
              "    }\n",
              "\n",
              "    .colab-df-convert:hover {\n",
              "      background-color: #E2EBFA;\n",
              "      box-shadow: 0px 1px 2px rgba(60, 64, 67, 0.3), 0px 1px 3px 1px rgba(60, 64, 67, 0.15);\n",
              "      fill: #174EA6;\n",
              "    }\n",
              "\n",
              "    [theme=dark] .colab-df-convert {\n",
              "      background-color: #3B4455;\n",
              "      fill: #D2E3FC;\n",
              "    }\n",
              "\n",
              "    [theme=dark] .colab-df-convert:hover {\n",
              "      background-color: #434B5C;\n",
              "      box-shadow: 0px 1px 3px 1px rgba(0, 0, 0, 0.15);\n",
              "      filter: drop-shadow(0px 1px 2px rgba(0, 0, 0, 0.3));\n",
              "      fill: #FFFFFF;\n",
              "    }\n",
              "  </style>\n",
              "\n",
              "      <script>\n",
              "        const buttonEl =\n",
              "          document.querySelector('#df-37aa2546-68c9-4bcc-92b7-457bfb7fcf9f button.colab-df-convert');\n",
              "        buttonEl.style.display =\n",
              "          google.colab.kernel.accessAllowed ? 'block' : 'none';\n",
              "\n",
              "        async function convertToInteractive(key) {\n",
              "          const element = document.querySelector('#df-37aa2546-68c9-4bcc-92b7-457bfb7fcf9f');\n",
              "          const dataTable =\n",
              "            await google.colab.kernel.invokeFunction('convertToInteractive',\n",
              "                                                     [key], {});\n",
              "          if (!dataTable) return;\n",
              "\n",
              "          const docLinkHtml = 'Like what you see? Visit the ' +\n",
              "            '<a target=\"_blank\" href=https://colab.research.google.com/notebooks/data_table.ipynb>data table notebook</a>'\n",
              "            + ' to learn more about interactive tables.';\n",
              "          element.innerHTML = '';\n",
              "          dataTable['output_type'] = 'display_data';\n",
              "          await google.colab.output.renderOutput(dataTable, element);\n",
              "          const docLink = document.createElement('div');\n",
              "          docLink.innerHTML = docLinkHtml;\n",
              "          element.appendChild(docLink);\n",
              "        }\n",
              "      </script>\n",
              "    </div>\n",
              "  </div>\n",
              "  "
            ]
          },
          "metadata": {},
          "execution_count": 26
        }
      ]
    },
    {
      "cell_type": "code",
      "execution_count": 27,
      "metadata": {
        "colab": {
          "base_uri": "https://localhost:8080/"
        },
        "id": "Sw8DCAdCeTMb",
        "outputId": "55de99c2-8a63-4025-9f10-18193320fff2"
      },
      "outputs": [
        {
          "output_type": "stream",
          "name": "stdout",
          "text": [
            "['John Smith', ' Emily Johnson', ' Rachel Williams', ' Michael Brown']\n",
            "John Smith\n"
          ]
        }
      ],
      "source": [
        "# create empty list\n",
        "split_list = []\n",
        "\n",
        "# iterate through cells in second column\n",
        "for cell in df[\"Project authors\"]:       \n",
        "    split_list.append(cell.split(',')) # split string in cell with ',' and append to list\n",
        "\n",
        "# print(split_list)\n",
        "print(split_list[0])\n",
        "print(split_list[0][0])"
      ]
    },
    {
      "cell_type": "markdown",
      "source": [
        "## Checking correlations"
      ],
      "metadata": {
        "id": "cOP10YMimRjU"
      }
    },
    {
      "cell_type": "code",
      "source": [
        "# add nodes\n",
        "nodes = []\n",
        "\n",
        "for cell in df[\"Project title\"]:       \n",
        "    nodes.append(cell)      \n",
        "\n",
        "print(nodes)"
      ],
      "metadata": {
        "colab": {
          "base_uri": "https://localhost:8080/"
        },
        "id": "n3vFctlqmWKS",
        "outputId": "969a0bac-ce49-4f1a-b670-4fe887acda3a"
      },
      "execution_count": 28,
      "outputs": [
        {
          "output_type": "stream",
          "name": "stdout",
          "text": [
            "['The Impact of Green Roofs on Urban Heat Island Effect', 'Sustainable Urbanism: An Analysis of LEED-Certified Neighborhoods', 'The Role of Public Space in Promoting Social Cohesion in Cities', 'The Future of Transportation: A Case Study of Electric, Autonomous Vehicles in Urban Areas', 'The Relationship Between Urban Form and Walking Behavior', 'The Effects of Urban Density on Mental Health', 'The Impact of Urban Sprawl on Biodiversity', 'The Role of Public Art in Urban Revitalization', 'The Role of Transportation Infrastructure in Shaping Urban Form', 'Evaluating the Effectiveness of Public Transit-Oriented Development', 'The Impact of Street Design on Pedestrian Safety', 'The Use of Green Infrastructure to Manage Stormwater in Urban Areas', 'The Relationship Between Housing Affordability and Access to Public Transportation', 'The Role of Public Parks in Promoting Physical Activity in Urban Areas', 'The Impact of Light Pollution on Urban Ecosystems', 'The Role of Public Transportation in Reducing Carbon Emissions in Cities', 'The Impact of Urbanization on Freshwater Quality', 'The Role of Street Trees in Reducing Urban Heat Island Effect', 'The Impact of Traffic Congestion on Air Quality in Urban Areas', 'The Role of Public Transportation in Reducing Traffic Congestion in Cities']\n"
          ]
        }
      ]
    },
    {
      "cell_type": "code",
      "source": [
        "edge_labels = []\n",
        "\n",
        "# Check if two works involve same author(s)\n",
        "def add_edge(cell_1, cell_2):\n",
        "  for item_1 in split_list[cell_1]:\n",
        "    for item_2 in split_list[cell_2]:\n",
        "        if cell_1 != cell_2 and item_1 == item_2:\n",
        "           edge_labels.append(str(cell_1)+'-'+str(cell_2))"
      ],
      "metadata": {
        "id": "YzpLCsuvkfQD"
      },
      "execution_count": 29,
      "outputs": []
    },
    {
      "cell_type": "code",
      "source": [
        "# Test every pair of works \n",
        "for i in range(len(df[\"Project authors\"])): # Work A\n",
        "    for j in range(len(df[\"Project authors\"])): # Work B\n",
        "        add_edge(i, j) \n",
        "\n",
        "print(edge_labels)"
      ],
      "metadata": {
        "colab": {
          "base_uri": "https://localhost:8080/"
        },
        "id": "Lj0dzeP2bOtm",
        "outputId": "7ed61fd8-256b-460a-e0dc-79e13ef3a228"
      },
      "execution_count": 30,
      "outputs": [
        {
          "output_type": "stream",
          "name": "stdout",
          "text": [
            "['0-12', '1-7', '1-16', '1-19', '3-18', '5-17', '6-18', '7-1', '7-19', '7-19', '7-19', '8-14', '9-15', '9-15', '9-15', '10-13', '10-16', '12-0', '12-18', '13-10', '14-8', '15-9', '15-9', '15-9', '16-1', '16-10', '17-5', '18-3', '18-6', '18-12', '19-1', '19-7', '19-7', '19-7']\n"
          ]
        }
      ]
    },
    {
      "cell_type": "markdown",
      "source": [
        "## Set up knowledge graph"
      ],
      "metadata": {
        "id": "jKIBB-Elktz6"
      }
    },
    {
      "cell_type": "code",
      "source": [
        "# Create an empty graph\n",
        "G = nx.Graph()\n",
        "\n",
        "# Add some nodes to the graph (test)\n",
        "for node in nodes:\n",
        "    G.add_node(node)"
      ],
      "metadata": {
        "id": "1k4AiqYXr-mx"
      },
      "execution_count": 31,
      "outputs": []
    },
    {
      "cell_type": "code",
      "source": [
        "# Add edges\n",
        "ed_labels = {} # Save edge labels\n",
        "\n",
        "# Get edge ends\n",
        "edge_ends = []\n",
        "\n",
        "# (people[0], people[1]): '(0,1)'\n",
        "for pair in edge_labels:\n",
        "    edge_ends.append(pair.split('-'))   \n",
        "\n",
        "print(edge_ends)\n",
        "\n",
        "\n",
        "for end in edge_ends:\n",
        "    G.add_edge(nodes[int(end[0])], nodes[int(end[1])])\n",
        "    ed_labels[(int(end[0]), int(end[1]))] = 'author_repeated'\n",
        "  "
      ],
      "metadata": {
        "colab": {
          "base_uri": "https://localhost:8080/"
        },
        "id": "VNRpZvGjupHu",
        "outputId": "6ce7c0b5-5d68-4508-acf1-8ed352cf2a70"
      },
      "execution_count": 40,
      "outputs": [
        {
          "output_type": "stream",
          "name": "stdout",
          "text": [
            "[['0', '12'], ['1', '7'], ['1', '16'], ['1', '19'], ['3', '18'], ['5', '17'], ['6', '18'], ['7', '1'], ['7', '19'], ['7', '19'], ['7', '19'], ['8', '14'], ['9', '15'], ['9', '15'], ['9', '15'], ['10', '13'], ['10', '16'], ['12', '0'], ['12', '18'], ['13', '10'], ['14', '8'], ['15', '9'], ['15', '9'], ['15', '9'], ['16', '1'], ['16', '10'], ['17', '5'], ['18', '3'], ['18', '6'], ['18', '12'], ['19', '1'], ['19', '7'], ['19', '7'], ['19', '7']]\n"
          ]
        }
      ]
    },
    {
      "cell_type": "code",
      "source": [
        "print(ed_labels)"
      ],
      "metadata": {
        "colab": {
          "base_uri": "https://localhost:8080/"
        },
        "id": "DTpgN2kSCdUU",
        "outputId": "b67bf172-3b67-48d5-f057-97f05fbf7f09"
      },
      "execution_count": 41,
      "outputs": [
        {
          "output_type": "stream",
          "name": "stdout",
          "text": [
            "{(0, 12): 'author_repeated', (1, 7): 'author_repeated', (1, 16): 'author_repeated', (1, 19): 'author_repeated', (3, 18): 'author_repeated', (5, 17): 'author_repeated', (6, 18): 'author_repeated', (7, 1): 'author_repeated', (7, 19): 'author_repeated', (8, 14): 'author_repeated', (9, 15): 'author_repeated', (10, 13): 'author_repeated', (10, 16): 'author_repeated', (12, 0): 'author_repeated', (12, 18): 'author_repeated', (13, 10): 'author_repeated', (14, 8): 'author_repeated', (15, 9): 'author_repeated', (16, 1): 'author_repeated', (16, 10): 'author_repeated', (17, 5): 'author_repeated', (18, 3): 'author_repeated', (18, 6): 'author_repeated', (18, 12): 'author_repeated', (19, 1): 'author_repeated', (19, 7): 'author_repeated'}\n"
          ]
        }
      ]
    },
    {
      "cell_type": "markdown",
      "source": [
        "## Visualise knowledge graph"
      ],
      "metadata": {
        "id": "aznbk_gnk5ly"
      }
    },
    {
      "cell_type": "code",
      "source": [
        "figure_size = 5 #@param{type:\"slider\", min:1, max:16, step:0.5}\n",
        "node_font_size = 4 #@param{type:\"slider\", min:1, max:16, step:0.5}\n",
        "label_font_size = 4 #@param{type:\"slider\", min:1, max:16, step:0.5}\n",
        "node_size = 10 #@param{type:\"slider\", min:1, max:16, step:0.5}\n",
        "edge_width = 0.3 #@param{type:\"slider\", min:0, max:2, step:0.1}\n",
        "\n",
        "# Figure settings\n",
        "plt.figure(figsize=(5, 5), dpi=150)\n",
        "\n",
        "pos = nx.spring_layout(G)\n",
        "# pos = nx.shell_layout(G)\n",
        "# pos = nx.spectral_layout(G)\n",
        "# pos = nx.spiral_layout(G)\n",
        "\n",
        "nx.draw(\n",
        "    G, pos,\n",
        "    with_labels=True, \n",
        "    font_size=node_font_size, \n",
        "    node_size=node_size,\n",
        "    node_color=\"red\", \n",
        "    width=edge_width, \n",
        "    edge_color=\"grey\")\n",
        "\n",
        "# Draw edge labels\n",
        "nx.draw_networkx_edge_labels(\n",
        "    G, pos, \n",
        "    edge_labels={}, \n",
        "    font_color='orange',\n",
        "    font_size=label_font_size)\n",
        "\n",
        "plt.show()"
      ],
      "metadata": {
        "colab": {
          "base_uri": "https://localhost:8080/",
          "height": 796
        },
        "id": "0HWPq7kHt4vA",
        "outputId": "3ef8b957-7591-4eab-cd17-51f08cd2b959"
      },
      "execution_count": 42,
      "outputs": [
        {
          "output_type": "display_data",
          "data": {
            "text/plain": [
              "<Figure size 750x750 with 1 Axes>"
            ],
            "image/png": "[encoded data removed]"
          },
          "metadata": {}
        }
      ]
    },
    {
      "cell_type": "markdown",
      "source": [
        "## Test"
      ],
      "metadata": {
        "id": "ABlT5-WIu82b"
      }
    },
    {
      "cell_type": "code",
      "source": [
        "\n",
        "# Create an empty graph\n",
        "G_test = nx.Graph()\n",
        "\n",
        "# Produce fake data #------------------------\n",
        "# Add some nodes to the graph (test)\n",
        "people = []\n",
        "for i in range(32):\n",
        "    name = \"\".join(random.choices(string.ascii_uppercase, k=5))\n",
        "    people.append(name)\n",
        "    G_test.add_node(name)\n",
        "\n",
        "# Add some edges to the graph (test)\n",
        "for i in range(len(people)):\n",
        "    for j in range(i+1, len(people)):\n",
        "        if set(people[i]) & set(people[j]):\n",
        "            G_test.add_edge(people[i], people[j])\n",
        "          "
      ],
      "metadata": {
        "id": "VDCft5hXgUJp"
      },
      "execution_count": null,
      "outputs": []
    },
    {
      "cell_type": "code",
      "source": [
        "\n",
        "# Visualise the graph\n",
        "plt.figure(figsize=(5, 5), dpi=150)\n",
        "pos = nx.spring_layout(G_test)\n",
        "nx.draw(G_test, pos, with_labels=True, font_size=4, node_size=10, node_color=\"orange\", width=0.1, edge_color=\"grey\")\n",
        "\n",
        "\n",
        "# Add edge labels (test)\n",
        "nx.draw_networkx_edge_labels(\n",
        "    G_test, pos,\n",
        "    edge_labels={(people[0], people[1]): '(0,1)', \n",
        "                 (people[1], people[2]): '(1,2)', \n",
        "                 (people[2], people[3]): '(2,3)'},\n",
        "    font_color='red',\n",
        "    font_size=4\n",
        ")\n",
        "\n",
        "plt.show()\n"
      ],
      "metadata": {
        "id": "aKJXbJO6kn5L"
      },
      "execution_count": null,
      "outputs": []
    }
  ]
}